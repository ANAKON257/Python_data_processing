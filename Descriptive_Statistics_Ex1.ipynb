{
 "cells": [
  {
   "cell_type": "markdown",
   "id": "605ab731",
   "metadata": {},
   "source": [
    "# Descriptive Statistics for the dataset of  Monthly_Expenses"
   ]
  },
  {
   "cell_type": "code",
   "execution_count": 1,
   "id": "ee1fa5e3",
   "metadata": {},
   "outputs": [],
   "source": [
    "#Import the packages\n",
    "import pandas as mypd"
   ]
  },
  {
   "cell_type": "code",
   "execution_count": 2,
   "id": "d607f306",
   "metadata": {},
   "outputs": [],
   "source": [
    "#Import the dataset\n",
    "mydata=mypd.read_csv('C:/Users/Anannya/Downloads/data/Monthly_Expenses.csv')"
   ]
  },
  {
   "cell_type": "markdown",
   "id": "52ede286",
   "metadata": {},
   "source": [
    "# Data"
   ]
  },
  {
   "cell_type": "code",
   "execution_count": 3,
   "id": "694c26fb",
   "metadata": {},
   "outputs": [
    {
     "data": {
      "text/html": [
       "<div>\n",
       "<style scoped>\n",
       "    .dataframe tbody tr th:only-of-type {\n",
       "        vertical-align: middle;\n",
       "    }\n",
       "\n",
       "    .dataframe tbody tr th {\n",
       "        vertical-align: top;\n",
       "    }\n",
       "\n",
       "    .dataframe thead th {\n",
       "        text-align: right;\n",
       "    }\n",
       "</style>\n",
       "<table border=\"1\" class=\"dataframe\">\n",
       "  <thead>\n",
       "    <tr style=\"text-align: right;\">\n",
       "      <th></th>\n",
       "      <th>Month</th>\n",
       "      <th>Expenses</th>\n",
       "    </tr>\n",
       "  </thead>\n",
       "  <tbody>\n",
       "    <tr>\n",
       "      <th>0</th>\n",
       "      <td>1</td>\n",
       "      <td>55</td>\n",
       "    </tr>\n",
       "    <tr>\n",
       "      <th>1</th>\n",
       "      <td>2</td>\n",
       "      <td>65</td>\n",
       "    </tr>\n",
       "    <tr>\n",
       "      <th>2</th>\n",
       "      <td>3</td>\n",
       "      <td>59</td>\n",
       "    </tr>\n",
       "    <tr>\n",
       "      <th>3</th>\n",
       "      <td>4</td>\n",
       "      <td>59</td>\n",
       "    </tr>\n",
       "    <tr>\n",
       "      <th>4</th>\n",
       "      <td>5</td>\n",
       "      <td>57</td>\n",
       "    </tr>\n",
       "    <tr>\n",
       "      <th>5</th>\n",
       "      <td>6</td>\n",
       "      <td>61</td>\n",
       "    </tr>\n",
       "    <tr>\n",
       "      <th>6</th>\n",
       "      <td>7</td>\n",
       "      <td>53</td>\n",
       "    </tr>\n",
       "    <tr>\n",
       "      <th>7</th>\n",
       "      <td>8</td>\n",
       "      <td>63</td>\n",
       "    </tr>\n",
       "    <tr>\n",
       "      <th>8</th>\n",
       "      <td>9</td>\n",
       "      <td>59</td>\n",
       "    </tr>\n",
       "    <tr>\n",
       "      <th>9</th>\n",
       "      <td>10</td>\n",
       "      <td>57</td>\n",
       "    </tr>\n",
       "    <tr>\n",
       "      <th>10</th>\n",
       "      <td>11</td>\n",
       "      <td>63</td>\n",
       "    </tr>\n",
       "    <tr>\n",
       "      <th>11</th>\n",
       "      <td>12</td>\n",
       "      <td>55</td>\n",
       "    </tr>\n",
       "    <tr>\n",
       "      <th>12</th>\n",
       "      <td>13</td>\n",
       "      <td>61</td>\n",
       "    </tr>\n",
       "    <tr>\n",
       "      <th>13</th>\n",
       "      <td>14</td>\n",
       "      <td>61</td>\n",
       "    </tr>\n",
       "    <tr>\n",
       "      <th>14</th>\n",
       "      <td>15</td>\n",
       "      <td>57</td>\n",
       "    </tr>\n",
       "    <tr>\n",
       "      <th>15</th>\n",
       "      <td>16</td>\n",
       "      <td>59</td>\n",
       "    </tr>\n",
       "    <tr>\n",
       "      <th>16</th>\n",
       "      <td>17</td>\n",
       "      <td>61</td>\n",
       "    </tr>\n",
       "    <tr>\n",
       "      <th>17</th>\n",
       "      <td>18</td>\n",
       "      <td>57</td>\n",
       "    </tr>\n",
       "    <tr>\n",
       "      <th>18</th>\n",
       "      <td>19</td>\n",
       "      <td>59</td>\n",
       "    </tr>\n",
       "    <tr>\n",
       "      <th>19</th>\n",
       "      <td>20</td>\n",
       "      <td>63</td>\n",
       "    </tr>\n",
       "  </tbody>\n",
       "</table>\n",
       "</div>"
      ],
      "text/plain": [
       "    Month   Expenses\n",
       "0        1        55\n",
       "1        2        65\n",
       "2        3        59\n",
       "3        4        59\n",
       "4        5        57\n",
       "5        6        61\n",
       "6        7        53\n",
       "7        8        63\n",
       "8        9        59\n",
       "9       10        57\n",
       "10      11        63\n",
       "11      12        55\n",
       "12      13        61\n",
       "13      14        61\n",
       "14      15        57\n",
       "15      16        59\n",
       "16      17        61\n",
       "17      18        57\n",
       "18      19        59\n",
       "19      20        63"
      ]
     },
     "execution_count": 3,
     "metadata": {},
     "output_type": "execute_result"
    }
   ],
   "source": [
    "mydata"
   ]
  },
  {
   "cell_type": "code",
   "execution_count": 4,
   "id": "567aa9c9",
   "metadata": {},
   "outputs": [
    {
     "data": {
      "text/html": [
       "<div>\n",
       "<style scoped>\n",
       "    .dataframe tbody tr th:only-of-type {\n",
       "        vertical-align: middle;\n",
       "    }\n",
       "\n",
       "    .dataframe tbody tr th {\n",
       "        vertical-align: top;\n",
       "    }\n",
       "\n",
       "    .dataframe thead th {\n",
       "        text-align: right;\n",
       "    }\n",
       "</style>\n",
       "<table border=\"1\" class=\"dataframe\">\n",
       "  <thead>\n",
       "    <tr style=\"text-align: right;\">\n",
       "      <th></th>\n",
       "      <th>Month</th>\n",
       "      <th>Expenses</th>\n",
       "    </tr>\n",
       "  </thead>\n",
       "  <tbody>\n",
       "    <tr>\n",
       "      <th>0</th>\n",
       "      <td>1</td>\n",
       "      <td>55</td>\n",
       "    </tr>\n",
       "    <tr>\n",
       "      <th>1</th>\n",
       "      <td>2</td>\n",
       "      <td>65</td>\n",
       "    </tr>\n",
       "    <tr>\n",
       "      <th>2</th>\n",
       "      <td>3</td>\n",
       "      <td>59</td>\n",
       "    </tr>\n",
       "    <tr>\n",
       "      <th>3</th>\n",
       "      <td>4</td>\n",
       "      <td>59</td>\n",
       "    </tr>\n",
       "    <tr>\n",
       "      <th>4</th>\n",
       "      <td>5</td>\n",
       "      <td>57</td>\n",
       "    </tr>\n",
       "  </tbody>\n",
       "</table>\n",
       "</div>"
      ],
      "text/plain": [
       "   Month   Expenses\n",
       "0       1        55\n",
       "1       2        65\n",
       "2       3        59\n",
       "3       4        59\n",
       "4       5        57"
      ]
     },
     "execution_count": 4,
     "metadata": {},
     "output_type": "execute_result"
    }
   ],
   "source": [
    "#Explore the data\n",
    "mydata.head()"
   ]
  },
  {
   "cell_type": "code",
   "execution_count": 5,
   "id": "ab50d583",
   "metadata": {},
   "outputs": [
    {
     "name": "stdout",
     "output_type": "stream",
     "text": [
      "<class 'pandas.core.frame.DataFrame'>\n",
      "RangeIndex: 20 entries, 0 to 19\n",
      "Data columns (total 2 columns):\n",
      " #   Column    Non-Null Count  Dtype\n",
      "---  ------    --------------  -----\n",
      " 0   Month     20 non-null     int64\n",
      " 1   Expenses  20 non-null     int64\n",
      "dtypes: int64(2)\n",
      "memory usage: 448.0 bytes\n"
     ]
    }
   ],
   "source": [
    "mydata.info()"
   ]
  },
  {
   "cell_type": "code",
   "execution_count": 6,
   "id": "08e468b6",
   "metadata": {},
   "outputs": [],
   "source": [
    "#copy the field Expenses to a new variable myexp\n",
    "myexp = mydata.Expenses"
   ]
  },
  {
   "cell_type": "code",
   "execution_count": 7,
   "id": "0f8c84ea",
   "metadata": {},
   "outputs": [
    {
     "data": {
      "text/plain": [
       "0     55\n",
       "1     65\n",
       "2     59\n",
       "3     59\n",
       "4     57\n",
       "5     61\n",
       "6     53\n",
       "7     63\n",
       "8     59\n",
       "9     57\n",
       "10    63\n",
       "11    55\n",
       "12    61\n",
       "13    61\n",
       "14    57\n",
       "15    59\n",
       "16    61\n",
       "17    57\n",
       "18    59\n",
       "19    63\n",
       "Name: Expenses, dtype: int64"
      ]
     },
     "execution_count": 7,
     "metadata": {},
     "output_type": "execute_result"
    }
   ],
   "source": [
    "myexp"
   ]
  },
  {
   "cell_type": "code",
   "execution_count": 8,
   "id": "28066fa8",
   "metadata": {},
   "outputs": [],
   "source": [
    "data=mypd.read_csv(r\"D:\\Python_ISI\\data\\Monthly_Expenses.csv\")"
   ]
  },
  {
   "cell_type": "markdown",
   "id": "07cd6960",
   "metadata": {},
   "source": [
    "# Computation of Mean"
   ]
  },
  {
   "cell_type": "code",
   "execution_count": 9,
   "id": "e9cfaa77",
   "metadata": {},
   "outputs": [
    {
     "data": {
      "text/plain": [
       "59.2"
      ]
     },
     "execution_count": 9,
     "metadata": {},
     "output_type": "execute_result"
    }
   ],
   "source": [
    "myexp.mean()"
   ]
  },
  {
   "cell_type": "markdown",
   "id": "25bd68be",
   "metadata": {},
   "source": [
    "# Computation of Median"
   ]
  },
  {
   "cell_type": "code",
   "execution_count": 10,
   "id": "aa64ab37",
   "metadata": {},
   "outputs": [
    {
     "data": {
      "text/plain": [
       "59.0"
      ]
     },
     "execution_count": 10,
     "metadata": {},
     "output_type": "execute_result"
    }
   ],
   "source": [
    "myexp.median()"
   ]
  },
  {
   "cell_type": "markdown",
   "id": "12fc7e94",
   "metadata": {},
   "source": [
    "# Computation of Mode"
   ]
  },
  {
   "cell_type": "code",
   "execution_count": 11,
   "id": "ff6bc656",
   "metadata": {},
   "outputs": [
    {
     "data": {
      "text/plain": [
       "0    59\n",
       "Name: Expenses, dtype: int64"
      ]
     },
     "execution_count": 11,
     "metadata": {},
     "output_type": "execute_result"
    }
   ],
   "source": [
    "myexp.mode()"
   ]
  },
  {
   "cell_type": "markdown",
   "id": "89c5f4ff",
   "metadata": {},
   "source": [
    "# Computation of Standard Deviation upto 4th decimal"
   ]
  },
  {
   "cell_type": "code",
   "execution_count": 12,
   "id": "bf6e5dba",
   "metadata": {},
   "outputs": [
    {
     "data": {
      "text/plain": [
       "3.1052"
      ]
     },
     "execution_count": 12,
     "metadata": {},
     "output_type": "execute_result"
    }
   ],
   "source": [
    "round(myexp.std(),4)"
   ]
  },
  {
   "cell_type": "markdown",
   "id": "30a05ab1",
   "metadata": {},
   "source": [
    "\n",
    "# Computation of Variance upto 4th decimal"
   ]
  },
  {
   "cell_type": "code",
   "execution_count": 13,
   "id": "919ba63f",
   "metadata": {},
   "outputs": [
    {
     "data": {
      "text/plain": [
       "9.6421"
      ]
     },
     "execution_count": 13,
     "metadata": {},
     "output_type": "execute_result"
    }
   ],
   "source": [
    "round(myexp.var(),4)"
   ]
  },
  {
   "cell_type": "markdown",
   "id": "24ea5a44",
   "metadata": {},
   "source": [
    "# Minimum Value"
   ]
  },
  {
   "cell_type": "code",
   "execution_count": 14,
   "id": "5a03c0fa",
   "metadata": {},
   "outputs": [
    {
     "data": {
      "text/plain": [
       "53"
      ]
     },
     "execution_count": 14,
     "metadata": {},
     "output_type": "execute_result"
    }
   ],
   "source": [
    "myexp.min()"
   ]
  },
  {
   "cell_type": "markdown",
   "id": "847faf48",
   "metadata": {},
   "source": [
    "# Maximum Value"
   ]
  },
  {
   "cell_type": "code",
   "execution_count": 15,
   "id": "1733540d",
   "metadata": {},
   "outputs": [
    {
     "data": {
      "text/plain": [
       "65"
      ]
     },
     "execution_count": 15,
     "metadata": {},
     "output_type": "execute_result"
    }
   ],
   "source": [
    "myexp.max()"
   ]
  },
  {
   "cell_type": "markdown",
   "id": "e6bac352",
   "metadata": {},
   "source": [
    "# Percentile 90th, 75th"
   ]
  },
  {
   "cell_type": "code",
   "execution_count": 16,
   "id": "52d9c64d",
   "metadata": {},
   "outputs": [
    {
     "data": {
      "text/plain": [
       "63.0"
      ]
     },
     "execution_count": 16,
     "metadata": {},
     "output_type": "execute_result"
    }
   ],
   "source": [
    "#90th percentile\n",
    "myexp.quantile(0.9)"
   ]
  },
  {
   "cell_type": "code",
   "execution_count": 17,
   "id": "dd5b9739",
   "metadata": {},
   "outputs": [
    {
     "data": {
      "text/plain": [
       "61.0"
      ]
     },
     "execution_count": 17,
     "metadata": {},
     "output_type": "execute_result"
    }
   ],
   "source": [
    "myexp.quantile(0.75)"
   ]
  },
  {
   "cell_type": "markdown",
   "id": "50698611",
   "metadata": {},
   "source": [
    "# Skewness"
   ]
  },
  {
   "cell_type": "code",
   "execution_count": 18,
   "id": "2891a8df",
   "metadata": {},
   "outputs": [
    {
     "data": {
      "text/plain": [
       "-0.09000332573429468"
      ]
     },
     "execution_count": 18,
     "metadata": {},
     "output_type": "execute_result"
    }
   ],
   "source": [
    "#skewness\n",
    "myexp.skew()"
   ]
  },
  {
   "cell_type": "markdown",
   "id": "c7681716",
   "metadata": {},
   "source": [
    "# Kurtosis"
   ]
  },
  {
   "cell_type": "code",
   "execution_count": 19,
   "id": "b9126c75",
   "metadata": {},
   "outputs": [
    {
     "data": {
      "text/plain": [
       "-0.43669243979508465"
      ]
     },
     "execution_count": 19,
     "metadata": {},
     "output_type": "execute_result"
    }
   ],
   "source": [
    "myexp.kurt()"
   ]
  },
  {
   "cell_type": "markdown",
   "id": "2d9d42c3",
   "metadata": {},
   "source": [
    "# Descriptive Summary"
   ]
  },
  {
   "cell_type": "code",
   "execution_count": 20,
   "id": "7879d592",
   "metadata": {},
   "outputs": [
    {
     "data": {
      "text/plain": [
       "count    20.000000\n",
       "mean     59.200000\n",
       "std       3.105174\n",
       "min      53.000000\n",
       "25%      57.000000\n",
       "50%      59.000000\n",
       "75%      61.000000\n",
       "max      65.000000\n",
       "Name: Expenses, dtype: float64"
      ]
     },
     "execution_count": 20,
     "metadata": {},
     "output_type": "execute_result"
    }
   ],
   "source": [
    "#Descriptive summary\n",
    "myexp.describe()"
   ]
  },
  {
   "cell_type": "markdown",
   "id": "23fb5856",
   "metadata": {},
   "source": [
    "# Math Package"
   ]
  },
  {
   "cell_type": "code",
   "execution_count": 21,
   "id": "b7a7b6d2",
   "metadata": {},
   "outputs": [],
   "source": [
    "#Import the package math\n",
    "import math as mymath"
   ]
  },
  {
   "cell_type": "code",
   "execution_count": 22,
   "id": "e6f16fa3",
   "metadata": {},
   "outputs": [
    {
     "data": {
      "text/plain": [
       "8.0"
      ]
     },
     "execution_count": 22,
     "metadata": {},
     "output_type": "execute_result"
    }
   ],
   "source": [
    "#Square root\n",
    "mymath.sqrt(64)"
   ]
  },
  {
   "cell_type": "markdown",
   "id": "37be3835",
   "metadata": {},
   "source": [
    "# Matplotlib package for Plots"
   ]
  },
  {
   "cell_type": "code",
   "execution_count": 23,
   "id": "0fd44054",
   "metadata": {},
   "outputs": [],
   "source": [
    "#Import the package\n",
    "import matplotlib.pyplot as myplot"
   ]
  },
  {
   "cell_type": "markdown",
   "id": "70c2c13d",
   "metadata": {},
   "source": [
    "# Histogram"
   ]
  },
  {
   "cell_type": "code",
   "execution_count": 24,
   "id": "9bcd26ae",
   "metadata": {},
   "outputs": [
    {
     "data": {
      "text/plain": [
       "<function matplotlib.pyplot.show(close=None, block=None)>"
      ]
     },
     "execution_count": 24,
     "metadata": {},
     "output_type": "execute_result"
    },
    {
     "data": {
      "image/png": "[encoded data removed]",
      "text/plain": [
       "<Figure size 640x480 with 1 Axes>"
      ]
     },
     "metadata": {},
     "output_type": "display_data"
    }
   ],
   "source": [
    "#Histogram\n",
    "myplot.hist(myexp,color='green')\n",
    "myplot.title('Histogram')\n",
    "myplot.xlabel('Monthly')\n",
    "myplot.ylabel('Frequency')\n",
    "myplot.show"
   ]
  },
  {
   "cell_type": "markdown",
   "id": "55c5cba6",
   "metadata": {},
   "source": [
    "# Boxplot"
   ]
  },
  {
   "cell_type": "code",
   "execution_count": 25,
   "id": "02f9283f",
   "metadata": {},
   "outputs": [
    {
     "data": {
      "image/png": "[encoded data removed]",
      "text/plain": [
       "<Figure size 640x480 with 1 Axes>"
      ]
     },
     "metadata": {},
     "output_type": "display_data"
    }
   ],
   "source": [
    "myplot.boxplot(myexp)\n",
    "myplot.title('Box Plot')\n",
    "myplot.ylabel('Monthly Expenses')\n",
    "myplot.show()"
   ]
  }
 ],
 "metadata": {
  "kernelspec": {
   "display_name": "Python 3 (ipykernel)",
   "language": "python",
   "name": "python3"
  },
  "language_info": {
   "codemirror_mode": {
    "name": "ipython",
    "version": 3
   },
   "file_extension": ".py",
   "mimetype": "text/x-python",
   "name": "python",
   "nbconvert_exporter": "python",
   "pygments_lexer": "ipython3",
   "version": "3.9.13"
  }
 },
 "nbformat": 4,
 "nbformat_minor": 5
}
