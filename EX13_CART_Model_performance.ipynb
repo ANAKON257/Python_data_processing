{
 "cells": [
  {
   "cell_type": "markdown",
   "id": "0c22a5f2",
   "metadata": {},
   "source": [
    "# CLASSIFICATION AND REGRESSION TREE Exercise 1:\n",
    "Develop a tree based model for predicting whether the customer will take pep (0: No & 1: Yes) using the customer profile data given in bank-data.csv?Use 80% of data to develop the model and validate the model using the remaining 20% of data?"
   ]
  },
  {
   "cell_type": "code",
   "execution_count": 1,
   "id": "e0c14e17",
   "metadata": {},
   "outputs": [],
   "source": [
    "#Import the packages\n",
    "import pandas as mypd\n",
    "from sklearn import tree\n",
    "from sklearn.model_selection import GridSearchCV\n",
    "from sklearn.model_selection import train_test_split"
   ]
  },
  {
   "cell_type": "code",
   "execution_count": 2,
   "id": "ab23e3b0",
   "metadata": {},
   "outputs": [],
   "source": [
    "#Import the data\n",
    "mydata=mypd.read_csv('D:/Python_ISI/data/bank-data.csv')"
   ]
  },
  {
   "cell_type": "code",
   "execution_count": 3,
   "id": "66f57bb4",
   "metadata": {},
   "outputs": [
    {
     "data": {
      "text/html": [
       "<div>\n",
       "<style scoped>\n",
       "    .dataframe tbody tr th:only-of-type {\n",
       "        vertical-align: middle;\n",
       "    }\n",
       "\n",
       "    .dataframe tbody tr th {\n",
       "        vertical-align: top;\n",
       "    }\n",
       "\n",
       "    .dataframe thead th {\n",
       "        text-align: right;\n",
       "    }\n",
       "</style>\n",
       "<table border=\"1\" class=\"dataframe\">\n",
       "  <thead>\n",
       "    <tr style=\"text-align: right;\">\n",
       "      <th></th>\n",
       "      <th>age</th>\n",
       "      <th>sex</th>\n",
       "      <th>region</th>\n",
       "      <th>income</th>\n",
       "      <th>married</th>\n",
       "      <th>children</th>\n",
       "      <th>car</th>\n",
       "      <th>save_act</th>\n",
       "      <th>current_act</th>\n",
       "      <th>mortgage</th>\n",
       "      <th>pep</th>\n",
       "    </tr>\n",
       "  </thead>\n",
       "  <tbody>\n",
       "    <tr>\n",
       "      <th>0</th>\n",
       "      <td>48</td>\n",
       "      <td>1</td>\n",
       "      <td>0</td>\n",
       "      <td>17546.0</td>\n",
       "      <td>0</td>\n",
       "      <td>1</td>\n",
       "      <td>0</td>\n",
       "      <td>0</td>\n",
       "      <td>0</td>\n",
       "      <td>0</td>\n",
       "      <td>1</td>\n",
       "    </tr>\n",
       "    <tr>\n",
       "      <th>1</th>\n",
       "      <td>40</td>\n",
       "      <td>0</td>\n",
       "      <td>3</td>\n",
       "      <td>30085.1</td>\n",
       "      <td>1</td>\n",
       "      <td>3</td>\n",
       "      <td>1</td>\n",
       "      <td>0</td>\n",
       "      <td>1</td>\n",
       "      <td>1</td>\n",
       "      <td>0</td>\n",
       "    </tr>\n",
       "    <tr>\n",
       "      <th>2</th>\n",
       "      <td>51</td>\n",
       "      <td>1</td>\n",
       "      <td>0</td>\n",
       "      <td>16575.4</td>\n",
       "      <td>1</td>\n",
       "      <td>0</td>\n",
       "      <td>1</td>\n",
       "      <td>1</td>\n",
       "      <td>1</td>\n",
       "      <td>0</td>\n",
       "      <td>0</td>\n",
       "    </tr>\n",
       "    <tr>\n",
       "      <th>3</th>\n",
       "      <td>23</td>\n",
       "      <td>1</td>\n",
       "      <td>3</td>\n",
       "      <td>20375.4</td>\n",
       "      <td>1</td>\n",
       "      <td>3</td>\n",
       "      <td>0</td>\n",
       "      <td>0</td>\n",
       "      <td>1</td>\n",
       "      <td>0</td>\n",
       "      <td>0</td>\n",
       "    </tr>\n",
       "    <tr>\n",
       "      <th>4</th>\n",
       "      <td>57</td>\n",
       "      <td>1</td>\n",
       "      <td>1</td>\n",
       "      <td>50576.3</td>\n",
       "      <td>1</td>\n",
       "      <td>0</td>\n",
       "      <td>0</td>\n",
       "      <td>1</td>\n",
       "      <td>0</td>\n",
       "      <td>0</td>\n",
       "      <td>0</td>\n",
       "    </tr>\n",
       "  </tbody>\n",
       "</table>\n",
       "</div>"
      ],
      "text/plain": [
       "   age  sex  region   income  married  children  car  save_act  current_act  \\\n",
       "0   48    1       0  17546.0        0         1    0         0            0   \n",
       "1   40    0       3  30085.1        1         3    1         0            1   \n",
       "2   51    1       0  16575.4        1         0    1         1            1   \n",
       "3   23    1       3  20375.4        1         3    0         0            1   \n",
       "4   57    1       1  50576.3        1         0    0         1            0   \n",
       "\n",
       "   mortgage  pep  \n",
       "0         0    1  \n",
       "1         1    0  \n",
       "2         0    0  \n",
       "3         0    0  \n",
       "4         0    0  "
      ]
     },
     "execution_count": 3,
     "metadata": {},
     "output_type": "execute_result"
    }
   ],
   "source": [
    "#Explore the data\n",
    "mydata.head()"
   ]
  },
  {
   "cell_type": "code",
   "execution_count": 4,
   "id": "796f0e45",
   "metadata": {},
   "outputs": [],
   "source": [
    "#Separate x's & y\n",
    "x=mydata.iloc[:,0:10]\n",
    "y=mydata.pep"
   ]
  },
  {
   "cell_type": "code",
   "execution_count": 5,
   "id": "d7d4f8ed",
   "metadata": {},
   "outputs": [],
   "source": [
    "#Split the data into training and test\n",
    "xtrain,xtest,ytrain,ytest=train_test_split(x,y,test_size=0.2,random_state=100)"
   ]
  },
  {
   "cell_type": "code",
   "execution_count": 6,
   "id": "58456cf0",
   "metadata": {},
   "outputs": [
    {
     "data": {
      "text/plain": [
       "(600, 480, 120)"
      ]
     },
     "execution_count": 6,
     "metadata": {},
     "output_type": "execute_result"
    }
   ],
   "source": [
    "#Number of values\n",
    "y.count(),ytrain.count(),ytest.count()"
   ]
  },
  {
   "cell_type": "code",
   "execution_count": 7,
   "id": "2fd7bcdf",
   "metadata": {},
   "outputs": [],
   "source": [
    "#Specify the initial model\n",
    "mymodel=tree.DecisionTreeClassifier()"
   ]
  },
  {
   "cell_type": "code",
   "execution_count": 8,
   "id": "9db8677e",
   "metadata": {},
   "outputs": [],
   "source": [
    "#Fit the model to training data\n",
    "mymodel=mymodel.fit(xtrain,ytrain)"
   ]
  },
  {
   "cell_type": "code",
   "execution_count": 9,
   "id": "1b7275c7",
   "metadata": {},
   "outputs": [
    {
     "data": {
      "text/plain": [
       "100.0"
      ]
     },
     "execution_count": 9,
     "metadata": {},
     "output_type": "execute_result"
    }
   ],
   "source": [
    "#Model Accuracy\n",
    "accuracy=mymodel.score(xtrain,ytrain)\n",
    "round(accuracy*100,2)"
   ]
  },
  {
   "cell_type": "code",
   "execution_count": 10,
   "id": "1a0b2bdd",
   "metadata": {},
   "outputs": [
    {
     "data": {
      "text/plain": [
       "85.0"
      ]
     },
     "execution_count": 10,
     "metadata": {},
     "output_type": "execute_result"
    }
   ],
   "source": [
    "#Model accuracy-test data\n",
    "accuracy=mymodel.score(xtest,ytest)\n",
    "round(accuracy*100,2)"
   ]
  },
  {
   "cell_type": "code",
   "execution_count": 11,
   "id": "7bfef31d",
   "metadata": {},
   "outputs": [],
   "source": [
    "#Hyperparameter tuning\n",
    "myparam_grid=[{'criterion':['gini','entropy'],'min_samples_split':[2,5,10,20,30,40,50,60]}]"
   ]
  },
  {
   "cell_type": "code",
   "execution_count": 12,
   "id": "418609bc",
   "metadata": {},
   "outputs": [],
   "source": [
    "mysearch=GridSearchCV(mymodel,param_grid=myparam_grid,scoring='accuracy',cv=5)"
   ]
  },
  {
   "cell_type": "code",
   "execution_count": 13,
   "id": "fc9fc9ba",
   "metadata": {},
   "outputs": [],
   "source": [
    "#Fit the search to the training data\n",
    "mysearch=mysearch.fit(xtrain,ytrain)"
   ]
  },
  {
   "cell_type": "code",
   "execution_count": 14,
   "id": "734268f9",
   "metadata": {},
   "outputs": [
    {
     "data": {
      "text/plain": [
       "{'criterion': 'entropy', 'min_samples_split': 10}"
      ]
     },
     "execution_count": 14,
     "metadata": {},
     "output_type": "execute_result"
    }
   ],
   "source": [
    "#Search parameters for best fit\n",
    "mysearch.best_params_"
   ]
  },
  {
   "cell_type": "code",
   "execution_count": 15,
   "id": "49de9229",
   "metadata": {},
   "outputs": [],
   "source": [
    "mymodel=tree.DecisionTreeClassifier(criterion='entropy', min_samples_split= 10)"
   ]
  },
  {
   "cell_type": "code",
   "execution_count": 16,
   "id": "3fbbde8c",
   "metadata": {},
   "outputs": [],
   "source": [
    "#Fit the model to training data\n",
    "mymodel=mymodel.fit(xtrain,ytrain)"
   ]
  },
  {
   "cell_type": "code",
   "execution_count": 17,
   "id": "597732a3",
   "metadata": {},
   "outputs": [
    {
     "data": {
      "text/plain": [
       "96.67"
      ]
     },
     "execution_count": 17,
     "metadata": {},
     "output_type": "execute_result"
    }
   ],
   "source": [
    "#Model Accuracy\n",
    "accuracy=mymodel.score(xtrain,ytrain)\n",
    "round(accuracy*100,2)"
   ]
  },
  {
   "cell_type": "code",
   "execution_count": 18,
   "id": "e2474713",
   "metadata": {},
   "outputs": [
    {
     "data": {
      "text/plain": [
       "79.17"
      ]
     },
     "execution_count": 18,
     "metadata": {},
     "output_type": "execute_result"
    }
   ],
   "source": [
    "#Model accuracy-test data\n",
    "accuracy=mymodel.score(xtest,ytest)\n",
    "round(accuracy*100,2)"
   ]
  },
  {
   "cell_type": "code",
   "execution_count": null,
   "id": "9ee9fbde",
   "metadata": {},
   "outputs": [],
   "source": [
    " "
   ]
  }
 ],
 "metadata": {
  "kernelspec": {
   "display_name": "Python 3 (ipykernel)",
   "language": "python",
   "name": "python3"
  },
  "language_info": {
   "codemirror_mode": {
    "name": "ipython",
    "version": 3
   },
   "file_extension": ".py",
   "mimetype": "text/x-python",
   "name": "python",
   "nbconvert_exporter": "python",
   "pygments_lexer": "ipython3",
   "version": "3.9.13"
  }
 },
 "nbformat": 4,
 "nbformat_minor": 5
}
