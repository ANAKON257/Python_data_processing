{
 "cells": [
  {
   "cell_type": "markdown",
   "id": "c0fbaf88",
   "metadata": {},
   "source": [
    "# RANDOM FOREST Example:\n",
    "Develop a model to predict the medain value of owner occupied homes using\n",
    "Bosten housing data ? Use 80% of the data to develop the model and validate\n",
    "the model using remaining 20% of the data?"
   ]
  },
  {
   "cell_type": "code",
   "execution_count": 1,
   "id": "b5fc183a",
   "metadata": {},
   "outputs": [],
   "source": [
    "#Import the packages\n",
    "import pandas as mypd\n",
    "from sklearn.ensemble import RandomForestRegressor\n",
    "from sklearn import tree\n",
    "from sklearn.model_selection import train_test_split\n",
    "from sklearn.metrics import mean_squared_error\n",
    "from sklearn.model_selection import GridSearchCV"
   ]
  },
  {
   "cell_type": "code",
   "execution_count": 2,
   "id": "ed00f46f",
   "metadata": {},
   "outputs": [],
   "source": [
    "#Import the data\n",
    "mydata=mypd.read_excel('D:/Python_ISI/data/Boston_Housing Data.xls')"
   ]
  },
  {
   "cell_type": "code",
   "execution_count": 3,
   "id": "f00ebe8e",
   "metadata": {},
   "outputs": [
    {
     "data": {
      "text/html": [
       "<div>\n",
       "<style scoped>\n",
       "    .dataframe tbody tr th:only-of-type {\n",
       "        vertical-align: middle;\n",
       "    }\n",
       "\n",
       "    .dataframe tbody tr th {\n",
       "        vertical-align: top;\n",
       "    }\n",
       "\n",
       "    .dataframe thead th {\n",
       "        text-align: right;\n",
       "    }\n",
       "</style>\n",
       "<table border=\"1\" class=\"dataframe\">\n",
       "  <thead>\n",
       "    <tr style=\"text-align: right;\">\n",
       "      <th></th>\n",
       "      <th>CRIM</th>\n",
       "      <th>ZN</th>\n",
       "      <th>INDUS</th>\n",
       "      <th>CHAS</th>\n",
       "      <th>NOX</th>\n",
       "      <th>RM</th>\n",
       "      <th>AGE</th>\n",
       "      <th>DIS</th>\n",
       "      <th>RAD</th>\n",
       "      <th>TAX</th>\n",
       "      <th>PTRATIO</th>\n",
       "      <th>B</th>\n",
       "      <th>LSTAT</th>\n",
       "      <th>MEDV</th>\n",
       "    </tr>\n",
       "  </thead>\n",
       "  <tbody>\n",
       "    <tr>\n",
       "      <th>0</th>\n",
       "      <td>0.00632</td>\n",
       "      <td>18.0</td>\n",
       "      <td>2.31</td>\n",
       "      <td>0</td>\n",
       "      <td>0.538</td>\n",
       "      <td>6.575</td>\n",
       "      <td>65.2</td>\n",
       "      <td>4.0900</td>\n",
       "      <td>1</td>\n",
       "      <td>296</td>\n",
       "      <td>15.3</td>\n",
       "      <td>396.90</td>\n",
       "      <td>4.98</td>\n",
       "      <td>24.0</td>\n",
       "    </tr>\n",
       "    <tr>\n",
       "      <th>1</th>\n",
       "      <td>0.02731</td>\n",
       "      <td>0.0</td>\n",
       "      <td>7.07</td>\n",
       "      <td>0</td>\n",
       "      <td>0.469</td>\n",
       "      <td>6.421</td>\n",
       "      <td>78.9</td>\n",
       "      <td>4.9671</td>\n",
       "      <td>2</td>\n",
       "      <td>242</td>\n",
       "      <td>17.8</td>\n",
       "      <td>396.90</td>\n",
       "      <td>9.14</td>\n",
       "      <td>21.6</td>\n",
       "    </tr>\n",
       "    <tr>\n",
       "      <th>2</th>\n",
       "      <td>0.02729</td>\n",
       "      <td>0.0</td>\n",
       "      <td>7.07</td>\n",
       "      <td>0</td>\n",
       "      <td>0.469</td>\n",
       "      <td>7.185</td>\n",
       "      <td>61.1</td>\n",
       "      <td>4.9671</td>\n",
       "      <td>2</td>\n",
       "      <td>242</td>\n",
       "      <td>17.8</td>\n",
       "      <td>392.83</td>\n",
       "      <td>4.03</td>\n",
       "      <td>34.7</td>\n",
       "    </tr>\n",
       "    <tr>\n",
       "      <th>3</th>\n",
       "      <td>0.03237</td>\n",
       "      <td>0.0</td>\n",
       "      <td>2.18</td>\n",
       "      <td>0</td>\n",
       "      <td>0.458</td>\n",
       "      <td>6.998</td>\n",
       "      <td>45.8</td>\n",
       "      <td>6.0622</td>\n",
       "      <td>3</td>\n",
       "      <td>222</td>\n",
       "      <td>18.7</td>\n",
       "      <td>394.63</td>\n",
       "      <td>2.94</td>\n",
       "      <td>33.4</td>\n",
       "    </tr>\n",
       "    <tr>\n",
       "      <th>4</th>\n",
       "      <td>0.06905</td>\n",
       "      <td>0.0</td>\n",
       "      <td>2.18</td>\n",
       "      <td>0</td>\n",
       "      <td>0.458</td>\n",
       "      <td>7.147</td>\n",
       "      <td>54.2</td>\n",
       "      <td>6.0622</td>\n",
       "      <td>3</td>\n",
       "      <td>222</td>\n",
       "      <td>18.7</td>\n",
       "      <td>396.90</td>\n",
       "      <td>5.33</td>\n",
       "      <td>36.2</td>\n",
       "    </tr>\n",
       "  </tbody>\n",
       "</table>\n",
       "</div>"
      ],
      "text/plain": [
       "      CRIM    ZN  INDUS  CHAS    NOX     RM   AGE     DIS  RAD  TAX  PTRATIO  \\\n",
       "0  0.00632  18.0   2.31     0  0.538  6.575  65.2  4.0900    1  296     15.3   \n",
       "1  0.02731   0.0   7.07     0  0.469  6.421  78.9  4.9671    2  242     17.8   \n",
       "2  0.02729   0.0   7.07     0  0.469  7.185  61.1  4.9671    2  242     17.8   \n",
       "3  0.03237   0.0   2.18     0  0.458  6.998  45.8  6.0622    3  222     18.7   \n",
       "4  0.06905   0.0   2.18     0  0.458  7.147  54.2  6.0622    3  222     18.7   \n",
       "\n",
       "        B  LSTAT  MEDV  \n",
       "0  396.90   4.98  24.0  \n",
       "1  396.90   9.14  21.6  \n",
       "2  392.83   4.03  34.7  \n",
       "3  394.63   2.94  33.4  \n",
       "4  396.90   5.33  36.2  "
      ]
     },
     "execution_count": 3,
     "metadata": {},
     "output_type": "execute_result"
    }
   ],
   "source": [
    "#Explore the data\n",
    "mydata.head()"
   ]
  },
  {
   "cell_type": "code",
   "execution_count": 4,
   "id": "83f60a65",
   "metadata": {},
   "outputs": [],
   "source": [
    "#Seperate x's & y\n",
    "x=mydata.iloc[:,0:13]\n",
    "y=mydata.MEDV"
   ]
  },
  {
   "cell_type": "code",
   "execution_count": 5,
   "id": "62c9016e",
   "metadata": {},
   "outputs": [],
   "source": [
    "#Split the data into training & test\n",
    "xtrain,xtest,ytrain,ytest=train_test_split(x,y,test_size=0.2,random_state=50)"
   ]
  },
  {
   "cell_type": "code",
   "execution_count": 6,
   "id": "98762073",
   "metadata": {},
   "outputs": [
    {
     "data": {
      "text/plain": [
       "(506, 404, 102)"
      ]
     },
     "execution_count": 6,
     "metadata": {},
     "output_type": "execute_result"
    }
   ],
   "source": [
    "#Count of values\n",
    "y.count(),ytrain.count(),ytest.count()"
   ]
  },
  {
   "cell_type": "code",
   "execution_count": 7,
   "id": "55ed887f",
   "metadata": {},
   "outputs": [],
   "source": [
    "#set up initial bagging model\n",
    "mybagmodel=RandomForestRegressor(max_features='auto')"
   ]
  },
  {
   "cell_type": "code",
   "execution_count": 8,
   "id": "77095d7c",
   "metadata": {},
   "outputs": [],
   "source": [
    "#Fit the model to training data\n",
    "mybagmodel=mybagmodel.fit(xtrain,ytrain)"
   ]
  },
  {
   "cell_type": "code",
   "execution_count": 9,
   "id": "80112c28",
   "metadata": {},
   "outputs": [
    {
     "data": {
      "text/plain": [
       "0.9750974153482314"
      ]
     },
     "execution_count": 9,
     "metadata": {},
     "output_type": "execute_result"
    }
   ],
   "source": [
    "#Model performance\n",
    "mybagmodel.score(xtrain,ytrain)"
   ]
  },
  {
   "cell_type": "code",
   "execution_count": 10,
   "id": "195a86bf",
   "metadata": {},
   "outputs": [],
   "source": [
    "#Hyperparameter tuning\n",
    "#parameter grid\n",
    "myparam_grid=[{'n_estimators':[100,200,300,400,500],'min_samples_split':[2,5,10,20,30,40,50]}]"
   ]
  },
  {
   "cell_type": "code",
   "execution_count": 11,
   "id": "27199702",
   "metadata": {},
   "outputs": [],
   "source": [
    "#set up search\n",
    "mysearch=GridSearchCV(mybagmodel,param_grid=myparam_grid,scoring='neg_mean_squared_error',cv=5,verbose=True)"
   ]
  },
  {
   "cell_type": "code",
   "execution_count": 12,
   "id": "80523a2a",
   "metadata": {},
   "outputs": [
    {
     "name": "stdout",
     "output_type": "stream",
     "text": [
      "Fitting 5 folds for each of 35 candidates, totalling 175 fits\n"
     ]
    }
   ],
   "source": [
    "#Fit the search to the data\n",
    "mysearch=mysearch.fit(xtrain,ytrain)"
   ]
  },
  {
   "cell_type": "code",
   "execution_count": 13,
   "id": "0407661c",
   "metadata": {},
   "outputs": [
    {
     "data": {
      "text/plain": [
       "{'min_samples_split': 2, 'n_estimators': 200}"
      ]
     },
     "execution_count": 13,
     "metadata": {},
     "output_type": "execute_result"
    }
   ],
   "source": [
    "#Best parameters\n",
    "mysearch.best_params_"
   ]
  },
  {
   "cell_type": "code",
   "execution_count": 14,
   "id": "230fd9e9",
   "metadata": {},
   "outputs": [],
   "source": [
    "#Optimum bagging model\n",
    "mybagmodel=RandomForestRegressor(n_estimators=200,min_samples_split=2,max_features='auto')"
   ]
  },
  {
   "cell_type": "code",
   "execution_count": 15,
   "id": "b92d2190",
   "metadata": {},
   "outputs": [],
   "source": [
    "#Fit the model to data\n",
    "mybagmodel=mybagmodel.fit(xtrain,ytrain)"
   ]
  },
  {
   "cell_type": "code",
   "execution_count": 16,
   "id": "9125d558",
   "metadata": {},
   "outputs": [
    {
     "data": {
      "text/plain": [
       "97.57"
      ]
     },
     "execution_count": 16,
     "metadata": {},
     "output_type": "execute_result"
    }
   ],
   "source": [
    "#Model R square\n",
    "rsq=mybagmodel.score(xtrain,ytrain)\n",
    "round(rsq*100,2)"
   ]
  },
  {
   "cell_type": "code",
   "execution_count": 17,
   "id": "2f71f9cf",
   "metadata": {},
   "outputs": [],
   "source": [
    "#Predict the response\n",
    "ypred=mybagmodel.predict(xtrain)"
   ]
  },
  {
   "cell_type": "code",
   "execution_count": 18,
   "id": "cc5c7052",
   "metadata": {},
   "outputs": [
    {
     "data": {
      "text/plain": [
       "2.0947"
      ]
     },
     "execution_count": 18,
     "metadata": {},
     "output_type": "execute_result"
    }
   ],
   "source": [
    "#MSE\n",
    "mse=mean_squared_error(ytrain,ypred)\n",
    "round(mse,4)"
   ]
  },
  {
   "cell_type": "code",
   "execution_count": 19,
   "id": "f96addd0",
   "metadata": {},
   "outputs": [
    {
     "data": {
      "text/plain": [
       "90.5062"
      ]
     },
     "execution_count": 19,
     "metadata": {},
     "output_type": "execute_result"
    }
   ],
   "source": [
    "#Model validation-rsq test data\n",
    "rsq_test=mybagmodel.score(xtest,ytest)\n",
    "round(rsq_test*100,4)"
   ]
  },
  {
   "cell_type": "code",
   "execution_count": 20,
   "id": "612cf000",
   "metadata": {},
   "outputs": [],
   "source": [
    "#Predict respond-test data\n",
    "predtest=mybagmodel.predict(xtest)"
   ]
  },
  {
   "cell_type": "code",
   "execution_count": 21,
   "id": "91d6ad02",
   "metadata": {},
   "outputs": [
    {
     "data": {
      "text/plain": [
       "7.3003"
      ]
     },
     "execution_count": 21,
     "metadata": {},
     "output_type": "execute_result"
    }
   ],
   "source": [
    "#MSE -test\n",
    "mse_test=mean_squared_error(ytest,predtest)\n",
    "round(mse_test,4)"
   ]
  },
  {
   "cell_type": "code",
   "execution_count": 22,
   "id": "f8162a76",
   "metadata": {},
   "outputs": [],
   "source": [
    "#Set up initial model\n",
    "myrfmodel=RandomForestRegressor(max_features='sqrt')"
   ]
  },
  {
   "cell_type": "code",
   "execution_count": 23,
   "id": "b624284c",
   "metadata": {},
   "outputs": [],
   "source": [
    "#Fit the model to training data\n",
    "myrfmodel=myrfmodel.fit(xtrain,ytrain)"
   ]
  },
  {
   "cell_type": "code",
   "execution_count": 24,
   "id": "343a65b7",
   "metadata": {},
   "outputs": [],
   "source": [
    "#Hyperparameter optimization\n",
    "myparam_grid=[{'n_estimators':[100,200,300,400,500],'min_samples_split':[2,5,10,20,30,40,50]}]"
   ]
  },
  {
   "cell_type": "code",
   "execution_count": 25,
   "id": "e17fd556",
   "metadata": {},
   "outputs": [],
   "source": [
    "#Set up search\n",
    "mysearch=GridSearchCV(myrfmodel,param_grid=myparam_grid,scoring='neg_mean_squared_error',cv=5)"
   ]
  },
  {
   "cell_type": "code",
   "execution_count": 26,
   "id": "c7a5ac96",
   "metadata": {},
   "outputs": [],
   "source": [
    "#Fit the search\n",
    "mysearch=mysearch.fit(xtrain,ytrain)"
   ]
  },
  {
   "cell_type": "code",
   "execution_count": 27,
   "id": "5cabe6c0",
   "metadata": {},
   "outputs": [
    {
     "data": {
      "text/plain": [
       "{'min_samples_split': 2, 'n_estimators': 200}"
      ]
     },
     "execution_count": 27,
     "metadata": {},
     "output_type": "execute_result"
    }
   ],
   "source": [
    "#Best parameters\n",
    "mysearch.best_params_"
   ]
  },
  {
   "cell_type": "code",
   "execution_count": 28,
   "id": "7bb5e316",
   "metadata": {},
   "outputs": [],
   "source": [
    "#Develop opt RF model\n",
    "myrfmodel=RandomForestRegressor(n_estimators=200,min_samples_split=2,max_features='sqrt')"
   ]
  },
  {
   "cell_type": "code",
   "execution_count": 29,
   "id": "5d7c7e86",
   "metadata": {},
   "outputs": [],
   "source": [
    "#Fit the model to training data\n",
    "myrfmodel=myrfmodel.fit(xtrain,ytrain)"
   ]
  },
  {
   "cell_type": "code",
   "execution_count": 30,
   "id": "46988b73",
   "metadata": {},
   "outputs": [
    {
     "data": {
      "text/plain": [
       "98.02"
      ]
     },
     "execution_count": 30,
     "metadata": {},
     "output_type": "execute_result"
    }
   ],
   "source": [
    "#Model performance-rsq\n",
    "rsq=myrfmodel.score(xtrain,ytrain)\n",
    "round(rsq*100,2)"
   ]
  },
  {
   "cell_type": "code",
   "execution_count": 31,
   "id": "5b62aebe",
   "metadata": {},
   "outputs": [],
   "source": [
    "#Predicted values\n",
    "ypred=myrfmodel.predict(xtrain)"
   ]
  },
  {
   "cell_type": "code",
   "execution_count": 32,
   "id": "c0121b08",
   "metadata": {},
   "outputs": [
    {
     "data": {
      "text/plain": [
       "1.7115"
      ]
     },
     "execution_count": 32,
     "metadata": {},
     "output_type": "execute_result"
    }
   ],
   "source": [
    "#MSE\n",
    "mse=mean_squared_error(ytrain,ypred)\n",
    "round(mse,4)"
   ]
  },
  {
   "cell_type": "code",
   "execution_count": 33,
   "id": "d3b8a65a",
   "metadata": {},
   "outputs": [
    {
     "data": {
      "text/plain": [
       "84.72"
      ]
     },
     "execution_count": 33,
     "metadata": {},
     "output_type": "execute_result"
    }
   ],
   "source": [
    "#rsq for test data\n",
    "rsq_test=myrfmodel.score(xtest,ytest)\n",
    "round(rsq_test*100,2)"
   ]
  },
  {
   "cell_type": "code",
   "execution_count": 34,
   "id": "39b03479",
   "metadata": {},
   "outputs": [],
   "source": [
    "##Predicted values\n",
    "predtest=myrfmodel.predict(xtest)"
   ]
  },
  {
   "cell_type": "code",
   "execution_count": 35,
   "id": "2fc6c44d",
   "metadata": {},
   "outputs": [
    {
     "data": {
      "text/plain": [
       "11.7477"
      ]
     },
     "execution_count": 35,
     "metadata": {},
     "output_type": "execute_result"
    }
   ],
   "source": [
    "#MSE test\n",
    "mse_test=mean_squared_error(ytest,predtest)\n",
    "round(mse_test,4)"
   ]
  },
  {
   "cell_type": "code",
   "execution_count": 36,
   "id": "a1e0d7b5",
   "metadata": {},
   "outputs": [],
   "source": [
    "#Initial tree model\n",
    "mymodel=tree.DecisionTreeRegressor()"
   ]
  },
  {
   "cell_type": "code",
   "execution_count": 37,
   "id": "06793862",
   "metadata": {},
   "outputs": [],
   "source": [
    "#Fit the model\n",
    "mymodel=mymodel.fit(xtrain,ytrain)"
   ]
  },
  {
   "cell_type": "code",
   "execution_count": 38,
   "id": "c46dbfe0",
   "metadata": {},
   "outputs": [],
   "source": [
    "#Hyper parameter tuning\n",
    "myparam_grid=[{'min_samples_split':[2,5,10,20,30,40,50]}]"
   ]
  },
  {
   "cell_type": "code",
   "execution_count": 39,
   "id": "4c628244",
   "metadata": {},
   "outputs": [],
   "source": [
    "#set up search\n",
    "mysearch=GridSearchCV(mymodel,param_grid=myparam_grid,cv=5,scoring='neg_mean_squared_error')"
   ]
  },
  {
   "cell_type": "code",
   "execution_count": 40,
   "id": "9bc22b70",
   "metadata": {},
   "outputs": [],
   "source": [
    "#Fit the search\n",
    "mysearch=mysearch.fit(xtrain,ytrain)"
   ]
  },
  {
   "cell_type": "code",
   "execution_count": 41,
   "id": "bef5a887",
   "metadata": {},
   "outputs": [
    {
     "data": {
      "text/plain": [
       "{'min_samples_split': 40}"
      ]
     },
     "execution_count": 41,
     "metadata": {},
     "output_type": "execute_result"
    }
   ],
   "source": [
    "#Best Parameters\n",
    "mysearch.best_params_"
   ]
  },
  {
   "cell_type": "code",
   "execution_count": 42,
   "id": "f7b6b201",
   "metadata": {},
   "outputs": [],
   "source": [
    "#Best Tree model\n",
    "mymodel=tree.DecisionTreeRegressor(min_samples_split=40)"
   ]
  },
  {
   "cell_type": "code",
   "execution_count": 43,
   "id": "8b1ca4f9",
   "metadata": {},
   "outputs": [
    {
     "data": {
      "text/plain": [
       "87.57"
      ]
     },
     "execution_count": 43,
     "metadata": {},
     "output_type": "execute_result"
    }
   ],
   "source": [
    "#Fit the model\n",
    "mymodel=mymodel.fit(xtrain,ytrain)\n",
    "#Model performance\n",
    "rsq=mymodel.score(xtrain,ytrain)\n",
    "round(rsq*100,2)"
   ]
  },
  {
   "cell_type": "code",
   "execution_count": 44,
   "id": "0c061159",
   "metadata": {},
   "outputs": [],
   "source": [
    "#Predicted values\n",
    "ypred=mymodel.predict(xtrain)"
   ]
  },
  {
   "cell_type": "code",
   "execution_count": 45,
   "id": "8d86f506",
   "metadata": {},
   "outputs": [
    {
     "data": {
      "text/plain": [
       "10.7258"
      ]
     },
     "execution_count": 45,
     "metadata": {},
     "output_type": "execute_result"
    }
   ],
   "source": [
    "#MSE\n",
    "mse=mean_squared_error(ytrain,ypred)\n",
    "round(mse,4)"
   ]
  },
  {
   "cell_type": "code",
   "execution_count": 46,
   "id": "4de6d6f7",
   "metadata": {},
   "outputs": [
    {
     "data": {
      "text/plain": [
       "80.31"
      ]
     },
     "execution_count": 46,
     "metadata": {},
     "output_type": "execute_result"
    }
   ],
   "source": [
    "#R-sq for test data\n",
    "rsq_test=mymodel.score(xtest,ytest)\n",
    "round(rsq_test*100,2)"
   ]
  },
  {
   "cell_type": "code",
   "execution_count": 47,
   "id": "b8ffb6b2",
   "metadata": {},
   "outputs": [
    {
     "data": {
      "text/plain": [
       "15.1397"
      ]
     },
     "execution_count": 47,
     "metadata": {},
     "output_type": "execute_result"
    }
   ],
   "source": [
    "#predicted values for test\n",
    "pred_test=mymodel.predict(xtest)\n",
    "#MSE-Test\n",
    "mse_test=mean_squared_error(ytest,pred_test)\n",
    "round(mse_test,4)"
   ]
  },
  {
   "cell_type": "code",
   "execution_count": 48,
   "id": "5188bb07",
   "metadata": {},
   "outputs": [],
   "source": [
    "#Export the model\n",
    "import joblib"
   ]
  },
  {
   "cell_type": "code",
   "execution_count": 49,
   "id": "a0319b6c",
   "metadata": {},
   "outputs": [
    {
     "data": {
      "text/plain": [
       "['RFModel.sav']"
      ]
     },
     "execution_count": 49,
     "metadata": {},
     "output_type": "execute_result"
    }
   ],
   "source": [
    "joblib.dump(myrfmodel,'RFModel.sav')"
   ]
  }
 ],
 "metadata": {
  "kernelspec": {
   "display_name": "Python 3 (ipykernel)",
   "language": "python",
   "name": "python3"
  },
  "language_info": {
   "codemirror_mode": {
    "name": "ipython",
    "version": 3
   },
   "file_extension": ".py",
   "mimetype": "text/x-python",
   "name": "python",
   "nbconvert_exporter": "python",
   "pygments_lexer": "ipython3",
   "version": "3.9.13"
  }
 },
 "nbformat": 4,
 "nbformat_minor": 5
}
