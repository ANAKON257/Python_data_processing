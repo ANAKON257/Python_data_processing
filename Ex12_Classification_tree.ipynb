{
 "cells": [
  {
   "cell_type": "markdown",
   "id": "8ffc2327",
   "metadata": {},
   "source": [
    "# CLASSIFICATION AND REGRESSION TREE Example: \n",
    "A marketing company wants to optimize their mailing campaign by sending\n",
    "the brochure mail only to those customers who responded to previous mail\n",
    "campaigns. The profile of customers are given. Can you develop a rule to\n",
    "identify the profile of customers who are likely to respond (Mail_Respond.csv)?"
   ]
  },
  {
   "cell_type": "code",
   "execution_count": 1,
   "id": "d9a62d15",
   "metadata": {},
   "outputs": [],
   "source": [
    "#Import the packages\n",
    "import pandas as mypd\n",
    "from sklearn import tree\n",
    "from sklearn.model_selection import cross_val_score\n",
    "from sklearn.model_selection import GridSearchCV"
   ]
  },
  {
   "cell_type": "code",
   "execution_count": 2,
   "id": "cbfef533",
   "metadata": {},
   "outputs": [],
   "source": [
    "#Import the dataset\n",
    "mydata=mypd.read_csv('D:/Python_ISI/data/Mail_Respond.csv')"
   ]
  },
  {
   "cell_type": "code",
   "execution_count": 3,
   "id": "51565490",
   "metadata": {},
   "outputs": [
    {
     "data": {
      "text/html": [
       "<div>\n",
       "<style scoped>\n",
       "    .dataframe tbody tr th:only-of-type {\n",
       "        vertical-align: middle;\n",
       "    }\n",
       "\n",
       "    .dataframe tbody tr th {\n",
       "        vertical-align: top;\n",
       "    }\n",
       "\n",
       "    .dataframe thead th {\n",
       "        text-align: right;\n",
       "    }\n",
       "</style>\n",
       "<table border=\"1\" class=\"dataframe\">\n",
       "  <thead>\n",
       "    <tr style=\"text-align: right;\">\n",
       "      <th></th>\n",
       "      <th>SLNo</th>\n",
       "      <th>District</th>\n",
       "      <th>House_Type</th>\n",
       "      <th>Income</th>\n",
       "      <th>Previous_Customer</th>\n",
       "      <th>Outcome</th>\n",
       "    </tr>\n",
       "  </thead>\n",
       "  <tbody>\n",
       "    <tr>\n",
       "      <th>0</th>\n",
       "      <td>1</td>\n",
       "      <td>1</td>\n",
       "      <td>0</td>\n",
       "      <td>1</td>\n",
       "      <td>0</td>\n",
       "      <td>0</td>\n",
       "    </tr>\n",
       "    <tr>\n",
       "      <th>1</th>\n",
       "      <td>2</td>\n",
       "      <td>1</td>\n",
       "      <td>0</td>\n",
       "      <td>1</td>\n",
       "      <td>1</td>\n",
       "      <td>0</td>\n",
       "    </tr>\n",
       "    <tr>\n",
       "      <th>2</th>\n",
       "      <td>3</td>\n",
       "      <td>2</td>\n",
       "      <td>0</td>\n",
       "      <td>1</td>\n",
       "      <td>0</td>\n",
       "      <td>1</td>\n",
       "    </tr>\n",
       "    <tr>\n",
       "      <th>3</th>\n",
       "      <td>4</td>\n",
       "      <td>0</td>\n",
       "      <td>1</td>\n",
       "      <td>1</td>\n",
       "      <td>0</td>\n",
       "      <td>1</td>\n",
       "    </tr>\n",
       "    <tr>\n",
       "      <th>4</th>\n",
       "      <td>5</td>\n",
       "      <td>0</td>\n",
       "      <td>1</td>\n",
       "      <td>0</td>\n",
       "      <td>0</td>\n",
       "      <td>1</td>\n",
       "    </tr>\n",
       "  </tbody>\n",
       "</table>\n",
       "</div>"
      ],
      "text/plain": [
       "   SLNo  District  House_Type  Income  Previous_Customer  Outcome\n",
       "0     1         1           0       1                  0        0\n",
       "1     2         1           0       1                  1        0\n",
       "2     3         2           0       1                  0        1\n",
       "3     4         0           1       1                  0        1\n",
       "4     5         0           1       0                  0        1"
      ]
     },
     "execution_count": 3,
     "metadata": {},
     "output_type": "execute_result"
    }
   ],
   "source": [
    "#Explore the data\n",
    "mydata.head()"
   ]
  },
  {
   "cell_type": "code",
   "execution_count": 4,
   "id": "fa2ffecf",
   "metadata": {},
   "outputs": [],
   "source": [
    "#Separate X's and Y\n",
    "x=mydata.iloc[:,1:5]\n",
    "y=mydata.Outcome"
   ]
  },
  {
   "cell_type": "code",
   "execution_count": 5,
   "id": "528deb5d",
   "metadata": {},
   "outputs": [
    {
     "data": {
      "text/html": [
       "<div>\n",
       "<style scoped>\n",
       "    .dataframe tbody tr th:only-of-type {\n",
       "        vertical-align: middle;\n",
       "    }\n",
       "\n",
       "    .dataframe tbody tr th {\n",
       "        vertical-align: top;\n",
       "    }\n",
       "\n",
       "    .dataframe thead th {\n",
       "        text-align: right;\n",
       "    }\n",
       "</style>\n",
       "<table border=\"1\" class=\"dataframe\">\n",
       "  <thead>\n",
       "    <tr style=\"text-align: right;\">\n",
       "      <th></th>\n",
       "      <th>District</th>\n",
       "      <th>House_Type</th>\n",
       "      <th>Income</th>\n",
       "      <th>Previous_Customer</th>\n",
       "    </tr>\n",
       "  </thead>\n",
       "  <tbody>\n",
       "    <tr>\n",
       "      <th>0</th>\n",
       "      <td>1</td>\n",
       "      <td>0</td>\n",
       "      <td>1</td>\n",
       "      <td>0</td>\n",
       "    </tr>\n",
       "    <tr>\n",
       "      <th>1</th>\n",
       "      <td>1</td>\n",
       "      <td>0</td>\n",
       "      <td>1</td>\n",
       "      <td>1</td>\n",
       "    </tr>\n",
       "    <tr>\n",
       "      <th>2</th>\n",
       "      <td>2</td>\n",
       "      <td>0</td>\n",
       "      <td>1</td>\n",
       "      <td>0</td>\n",
       "    </tr>\n",
       "    <tr>\n",
       "      <th>3</th>\n",
       "      <td>0</td>\n",
       "      <td>1</td>\n",
       "      <td>1</td>\n",
       "      <td>0</td>\n",
       "    </tr>\n",
       "    <tr>\n",
       "      <th>4</th>\n",
       "      <td>0</td>\n",
       "      <td>1</td>\n",
       "      <td>0</td>\n",
       "      <td>0</td>\n",
       "    </tr>\n",
       "  </tbody>\n",
       "</table>\n",
       "</div>"
      ],
      "text/plain": [
       "   District  House_Type  Income  Previous_Customer\n",
       "0         1           0       1                  0\n",
       "1         1           0       1                  1\n",
       "2         2           0       1                  0\n",
       "3         0           1       1                  0\n",
       "4         0           1       0                  0"
      ]
     },
     "execution_count": 5,
     "metadata": {},
     "output_type": "execute_result"
    }
   ],
   "source": [
    "x.head()"
   ]
  },
  {
   "cell_type": "code",
   "execution_count": 6,
   "id": "f372cf78",
   "metadata": {},
   "outputs": [],
   "source": [
    "#Specify the initial model\n",
    "mymodel=tree.DecisionTreeClassifier(min_samples_split=12)"
   ]
  },
  {
   "cell_type": "code",
   "execution_count": 7,
   "id": "781783d0",
   "metadata": {},
   "outputs": [],
   "source": [
    "#Fit the model to the data\n",
    "mymodel=mymodel.fit(x,y)"
   ]
  },
  {
   "cell_type": "code",
   "execution_count": 8,
   "id": "9834d339",
   "metadata": {},
   "outputs": [
    {
     "data": {
      "text/plain": [
       "100.0"
      ]
     },
     "execution_count": 8,
     "metadata": {},
     "output_type": "execute_result"
    }
   ],
   "source": [
    "#Model Accuracy\n",
    "accuracy=mymodel.score(x,y)\n",
    "round(accuracy*100,2)"
   ]
  },
  {
   "cell_type": "code",
   "execution_count": 9,
   "id": "fc5d41a1",
   "metadata": {},
   "outputs": [],
   "source": [
    "#Validate the model- Cross Validation\n",
    "mycv_accuracy=cross_val_score(mymodel,x,y,scoring='accuracy',cv=3)"
   ]
  },
  {
   "cell_type": "code",
   "execution_count": 10,
   "id": "b326298a",
   "metadata": {},
   "outputs": [
    {
     "data": {
      "text/plain": [
       "array([0.94117647, 0.93939394, 0.93939394])"
      ]
     },
     "execution_count": 10,
     "metadata": {},
     "output_type": "execute_result"
    }
   ],
   "source": [
    "mycv_accuracy"
   ]
  },
  {
   "cell_type": "code",
   "execution_count": 11,
   "id": "708089a7",
   "metadata": {},
   "outputs": [
    {
     "data": {
      "text/plain": [
       "94.0"
      ]
     },
     "execution_count": 11,
     "metadata": {},
     "output_type": "execute_result"
    }
   ],
   "source": [
    "cv_accuracy=mycv_accuracy.mean()\n",
    "round(cv_accuracy*100,2)"
   ]
  },
  {
   "cell_type": "code",
   "execution_count": 12,
   "id": "43a51258",
   "metadata": {},
   "outputs": [],
   "source": [
    "#Hyper parameter tuning\n",
    "#Set up parameter grid\n",
    "myparam_grid=[{'criterion':['gini','entropy'],'min_samples_split':[2,5,8,10,12]}]"
   ]
  },
  {
   "cell_type": "code",
   "execution_count": 13,
   "id": "54724413",
   "metadata": {},
   "outputs": [],
   "source": [
    "#Set up optimum search\n",
    "mysearch=GridSearchCV(mymodel,param_grid=myparam_grid,scoring='accuracy',cv=5)"
   ]
  },
  {
   "cell_type": "code",
   "execution_count": 14,
   "id": "827e9b0a",
   "metadata": {},
   "outputs": [],
   "source": [
    "#Fit the search to the data\n",
    "mysearch=mysearch.fit(x,y)"
   ]
  },
  {
   "cell_type": "code",
   "execution_count": 15,
   "id": "bd7bb7af",
   "metadata": {},
   "outputs": [
    {
     "data": {
      "text/plain": [
       "{'criterion': 'gini', 'min_samples_split': 2}"
      ]
     },
     "execution_count": 15,
     "metadata": {},
     "output_type": "execute_result"
    }
   ],
   "source": [
    "#Best parameter values\n",
    "mysearch.best_params_"
   ]
  },
  {
   "cell_type": "code",
   "execution_count": 16,
   "id": "3080f485",
   "metadata": {},
   "outputs": [],
   "source": [
    "#Set the optimum model\n",
    "mymodel=tree.DecisionTreeClassifier(criterion='gini',min_samples_split=2)"
   ]
  },
  {
   "cell_type": "code",
   "execution_count": 17,
   "id": "9a6fd1a7",
   "metadata": {},
   "outputs": [],
   "source": [
    "#Fit opt model to the data\n",
    "mymodel=mymodel.fit(x,y)"
   ]
  },
  {
   "cell_type": "code",
   "execution_count": 18,
   "id": "e319fe9f",
   "metadata": {},
   "outputs": [
    {
     "data": {
      "text/plain": [
       "1.0"
      ]
     },
     "execution_count": 18,
     "metadata": {},
     "output_type": "execute_result"
    }
   ],
   "source": [
    "#Model Accuracy\n",
    "accuracy=mymodel.score(x,y)\n",
    "accuracy"
   ]
  },
  {
   "cell_type": "code",
   "execution_count": 19,
   "id": "8dcd4970",
   "metadata": {},
   "outputs": [],
   "source": [
    "#Cross Validation Accuray\n",
    "mycv_accuracy=cross_val_score(mymodel,x,y,scoring='accuracy',cv=3)"
   ]
  },
  {
   "cell_type": "code",
   "execution_count": 20,
   "id": "a01e93d6",
   "metadata": {},
   "outputs": [
    {
     "data": {
      "text/plain": [
       "array([1., 1., 1.])"
      ]
     },
     "execution_count": 20,
     "metadata": {},
     "output_type": "execute_result"
    }
   ],
   "source": [
    "mycv_accuracy"
   ]
  },
  {
   "cell_type": "code",
   "execution_count": 21,
   "id": "996b2c72",
   "metadata": {},
   "outputs": [],
   "source": [
    "#Display the model\n",
    "from sklearn.tree import export_graphviz\n",
    "from six import StringIO\n",
    "from IPython.display import Image\n",
    "import pydotplus"
   ]
  },
  {
   "cell_type": "code",
   "execution_count": 22,
   "id": "694cedeb",
   "metadata": {},
   "outputs": [],
   "source": [
    "#conda install graphviz"
   ]
  },
  {
   "cell_type": "code",
   "execution_count": 23,
   "id": "2e007359",
   "metadata": {},
   "outputs": [],
   "source": [
    "#pip install pydotplus"
   ]
  },
  {
   "cell_type": "code",
   "execution_count": 24,
   "id": "4098cabb",
   "metadata": {},
   "outputs": [],
   "source": [
    "dot_data=StringIO()"
   ]
  },
  {
   "cell_type": "code",
   "execution_count": 25,
   "id": "4c1be489",
   "metadata": {},
   "outputs": [],
   "source": [
    "x_names=x.columns"
   ]
  },
  {
   "cell_type": "code",
   "execution_count": 26,
   "id": "afb1956e",
   "metadata": {},
   "outputs": [],
   "source": [
    "export_graphviz(mymodel,out_file=dot_data,feature_names=x_names,class_names=['0','1'],filled=True,special_characters=True)"
   ]
  },
  {
   "cell_type": "code",
   "execution_count": 27,
   "id": "d45de597",
   "metadata": {},
   "outputs": [],
   "source": [
    "mygraph = pydotplus.graph_from_dot_data(dot_data.getvalue())"
   ]
  },
  {
   "cell_type": "code",
   "execution_count": 28,
   "id": "a0a5f4a8",
   "metadata": {},
   "outputs": [
    {
     "data": {
      "text/plain": [
       "True"
      ]
     },
     "execution_count": 28,
     "metadata": {},
     "output_type": "execute_result"
    }
   ],
   "source": [
    "mygraph.write('Mail_Respond.png')"
   ]
  },
  {
   "cell_type": "code",
   "execution_count": 29,
   "id": "09d45a7c",
   "metadata": {},
   "outputs": [
    {
     "data": {
      "image/png": "[encoded data removed]",
      "text/plain": [
       "<IPython.core.display.Image object>"
      ]
     },
     "execution_count": 29,
     "metadata": {},
     "output_type": "execute_result"
    }
   ],
   "source": [
    "Image(mygraph.create_png())"
   ]
  },
  {
   "cell_type": "code",
   "execution_count": 30,
   "id": "06b9e2af",
   "metadata": {},
   "outputs": [],
   "source": [
    "#Predict the response\n",
    "ypred=mymodel.predict(x)"
   ]
  },
  {
   "cell_type": "code",
   "execution_count": 31,
   "id": "dfbe5df7",
   "metadata": {},
   "outputs": [],
   "source": [
    "#Actual vs Predicted\n",
    "mytable=mypd.crosstab(y,ypred)"
   ]
  },
  {
   "cell_type": "code",
   "execution_count": 32,
   "id": "44176892",
   "metadata": {},
   "outputs": [
    {
     "data": {
      "text/html": [
       "<div>\n",
       "<style scoped>\n",
       "    .dataframe tbody tr th:only-of-type {\n",
       "        vertical-align: middle;\n",
       "    }\n",
       "\n",
       "    .dataframe tbody tr th {\n",
       "        vertical-align: top;\n",
       "    }\n",
       "\n",
       "    .dataframe thead th {\n",
       "        text-align: right;\n",
       "    }\n",
       "</style>\n",
       "<table border=\"1\" class=\"dataframe\">\n",
       "  <thead>\n",
       "    <tr style=\"text-align: right;\">\n",
       "      <th>col_0</th>\n",
       "      <th>0</th>\n",
       "      <th>1</th>\n",
       "    </tr>\n",
       "    <tr>\n",
       "      <th>Outcome</th>\n",
       "      <th></th>\n",
       "      <th></th>\n",
       "    </tr>\n",
       "  </thead>\n",
       "  <tbody>\n",
       "    <tr>\n",
       "      <th>0</th>\n",
       "      <td>34</td>\n",
       "      <td>0</td>\n",
       "    </tr>\n",
       "    <tr>\n",
       "      <th>1</th>\n",
       "      <td>0</td>\n",
       "      <td>66</td>\n",
       "    </tr>\n",
       "  </tbody>\n",
       "</table>\n",
       "</div>"
      ],
      "text/plain": [
       "col_0     0   1\n",
       "Outcome        \n",
       "0        34   0\n",
       "1         0  66"
      ]
     },
     "execution_count": 32,
     "metadata": {},
     "output_type": "execute_result"
    }
   ],
   "source": [
    "mytable"
   ]
  }
 ],
 "metadata": {
  "kernelspec": {
   "display_name": "Python 3 (ipykernel)",
   "language": "python",
   "name": "python3"
  },
  "language_info": {
   "codemirror_mode": {
    "name": "ipython",
    "version": 3
   },
   "file_extension": ".py",
   "mimetype": "text/x-python",
   "name": "python",
   "nbconvert_exporter": "python",
   "pygments_lexer": "ipython3",
   "version": "3.9.13"
  }
 },
 "nbformat": 4,
 "nbformat_minor": 5
}
